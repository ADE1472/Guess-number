{
 "cells": [
  {
   "cell_type": "code",
   "execution_count": 1,
   "id": "cb54cd7a",
   "metadata": {},
   "outputs": [],
   "source": [
    "import random"
   ]
  },
  {
   "cell_type": "code",
   "execution_count": 2,
   "id": "6166274c",
   "metadata": {},
   "outputs": [],
   "source": [
    "#You Guessing"
   ]
  },
  {
   "cell_type": "code",
   "execution_count": 3,
   "id": "697af9c5",
   "metadata": {},
   "outputs": [
    {
     "name": "stdout",
     "output_type": "stream",
     "text": [
      "Guess a number between 1 and 100: 20\n",
      "Sorry, guess again. Too low digit inputed!\n",
      "Guess a number between 1 and 100: 50\n",
      "Sorry, guess again. Too high digit inputed!\n",
      "Guess a number between 1 and 100: 35\n",
      "Sorry, guess again. Too high digit inputed!\n",
      "Guess a number between 1 and 100: 25\n",
      "Sorry, guess again. Too high digit inputed!\n",
      "Guess a number between 1 and 100: 21\n",
      "Congratulation! You have guessed the number, <function guess at 0x000001DD0371F310>, correctly!!\n"
     ]
    }
   ],
   "source": [
    "def guess(x):\n",
    "    rn= random.randint(1, x)\n",
    "    guess= 0\n",
    "    while guess != rn:\n",
    "        guess= int(input (f\"Guess a number between 1 and {x}: \"))\n",
    "        if guess< rn:\n",
    "            print(\"Sorry, guess again. Too low digit inputed!\")\n",
    "        elif guess>rn:\n",
    "            print(\"Sorry, guess again. Too high digit inputed!\")\n",
    "        \n",
    "guess(100)\n",
    "print (f'Congratulation! You have guessed the number, {guess}, correctly!!')"
   ]
  },
  {
   "cell_type": "code",
   "execution_count": null,
   "id": "970eb997",
   "metadata": {},
   "outputs": [],
   "source": []
  },
  {
   "cell_type": "code",
   "execution_count": 4,
   "id": "03932f7a",
   "metadata": {},
   "outputs": [],
   "source": [
    "#Computer guessing"
   ]
  },
  {
   "cell_type": "code",
   "execution_count": 5,
   "id": "832fedd4",
   "metadata": {},
   "outputs": [
    {
     "name": "stdout",
     "output_type": "stream",
     "text": [
      "Is 107 too high (H), too low (L) or correct (C)??65\n",
      "Is 919 too high (H), too low (L) or correct (C)??C\n",
      " The computer guesssed your number, <function guess at 0x000001DD0371F310>, correctly!\n"
     ]
    }
   ],
   "source": [
    "def computer_guess(x):\n",
    "    low= 1\n",
    "    high= x\n",
    "    feedback= ''\n",
    "    while feedback != 'c':\n",
    "        if low != high:\n",
    "            guess= random.randint(low,high)\n",
    "        else:\n",
    "            guess = low #or high because low=high\n",
    "        feedback = input(f'Is {guess} too high (H), too low (L) or correct (C)??').lower()\n",
    "        if feedback == 'h':\n",
    "            high = guess - 1\n",
    "        elif feedback == 'l':\n",
    "            low = guess + 1\n",
    "\n",
    "computer_guess (1000)\n",
    "print (f' The computer guesssed your number, {guess}, correctly!' )"
   ]
  },
  {
   "cell_type": "code",
   "execution_count": null,
   "id": "953fc20c",
   "metadata": {},
   "outputs": [],
   "source": []
  }
 ],
 "metadata": {
  "kernelspec": {
   "display_name": "Python 3",
   "language": "python",
   "name": "python3"
  },
  "language_info": {
   "codemirror_mode": {
    "name": "ipython",
    "version": 3
   },
   "file_extension": ".py",
   "mimetype": "text/x-python",
   "name": "python",
   "nbconvert_exporter": "python",
   "pygments_lexer": "ipython3",
   "version": "3.9.4"
  }
 },
 "nbformat": 4,
 "nbformat_minor": 5
}
